{
 "cells": [
  {
   "cell_type": "code",
   "execution_count": 1,
   "metadata": {},
   "outputs": [],
   "source": [
    "import sys, math, random, heapq\n",
    "import matplotlib.pyplot as plt\n",
    "from itertools import chain\n",
    "\n",
    "if sys.version_info < (3, 0):\n",
    "   sys.exit(\"\"\"Sorry, requires Python 3.x, not Python 2.x.\"\"\")"
   ]
  },
  {
   "cell_type": "markdown",
   "metadata": {},
   "source": [
    "## Class definitions"
   ]
  },
  {
   "cell_type": "code",
   "execution_count": 2,
   "metadata": {},
   "outputs": [],
   "source": [
    "class Graph:\n",
    "\n",
    "    def __init__(self, vertices):\n",
    "        self.vertices = vertices\n",
    "        self.n = len(vertices)\n",
    "\n",
    "    def x(self, v):\n",
    "        return self.vertices[v][0]\n",
    "\n",
    "    def y(self, v):\n",
    "        return self.vertices[v][1]\n",
    "\n",
    "    # Lookup table for distances\n",
    "    _d_lookup = {}\n",
    "\n",
    "    def d(self, u, v):\n",
    "        \"\"\"Euclidean Metric d_2((x1, y1), (x2, y2))\"\"\"\n",
    "\n",
    "        # Check if the distance was computed before\n",
    "        if (u, v) in self._d_lookup:\n",
    "            return self._d_lookup[(u, v)]\n",
    "\n",
    "        # Otherwise compute it\n",
    "        _distance = math.sqrt((u[0] - v[0])**2 + (u[1] - v[1])**2)\n",
    "\n",
    "        # Add to dictionary\n",
    "        self._d_lookup[(u, v)], self._d_lookup[(v, u)] = _distance, _distance\n",
    "        return _distance\n",
    "\n",
    "    def plot(self, tour=None):\n",
    "        \"\"\"Plots the cities and superimposes given tour\"\"\"\n",
    "\n",
    "        if tour is None:\n",
    "            tour = Tour(self, [])\n",
    "\n",
    "        _vertices = [self.vertices[0]]\n",
    "\n",
    "        for i in tour.vertices:\n",
    "            _vertices.append(self.vertices[i])\n",
    "\n",
    "        _vertices.append(self.vertices[0])\n",
    "\n",
    "        plt.title(\"Cost = \" + str(tour.cost()))\n",
    "        plt.plot(*zip(*_vertices), '-r')\n",
    "        plt.scatter(*zip(*self.vertices), c=\"b\", s=10, marker=\"s\")\n",
    "        plt.show()"
   ]
  },
  {
   "cell_type": "code",
   "execution_count": 3,
   "metadata": {},
   "outputs": [],
   "source": [
    "class Tour:\n",
    "\n",
    "    def __init__(self, g, vertices = None):\n",
    "        \"\"\"Generate random tour in given graph g\"\"\"\n",
    "\n",
    "        self.g = g\n",
    "\n",
    "        if vertices is None:\n",
    "            self.vertices = list(range(1, g.n))\n",
    "            random.shuffle(self.vertices)\n",
    "        else:\n",
    "            self.vertices = vertices\n",
    "\n",
    "        self.__cost = None\n",
    "\n",
    "    def cost(self):\n",
    "        \"\"\"Return total edge-cost of tour\"\"\"\n",
    "\n",
    "        if self.__cost is None:\n",
    "            self.__cost = 0\n",
    "            for i, j in zip([0] + self.vertices, self.vertices + [0]):\n",
    "                self.__cost += self.g.d(self.g.vertices[i], self.g.vertices[j])\n",
    "        return self.__cost"
   ]
  },
  {
   "cell_type": "code",
   "execution_count": 4,
   "metadata": {},
   "outputs": [],
   "source": [
    "class GeneticAlgorithm:\n",
    "\n",
    "    def __init__(self, g, population_size, iterations=1000, k=5, elite_mating_rate=0.5,\n",
    "                 mutation_rate=0.015, mutation_swap_rate=0.2):\n",
    "        \"\"\"Initialises algorithm parameters\"\"\"\n",
    "\n",
    "        self.g = g\n",
    "\n",
    "        self.population = []\n",
    "        for _ in range(population_size):\n",
    "            self.population.append(Tour(g))\n",
    "\n",
    "        self.population_size = population_size\n",
    "        self.k = k\n",
    "        self.elite_mating_rate = elite_mating_rate\n",
    "        self.mutation_rate = mutation_rate\n",
    "        self.mutation_swap_rate = mutation_swap_rate\n",
    "\n",
    "    def crossover(self, mum, dad):\n",
    "        \"\"\"Implements ordered crossover\"\"\"\n",
    "\n",
    "        size = len(mum.vertices)\n",
    "\n",
    "        # Choose random start/end position for crossover\n",
    "        alice, bob = [-1] * size, [-1] * size\n",
    "        start, end = sorted([random.randrange(size) for _ in range(2)])\n",
    "\n",
    "        # Replicate mum's sequence for alice, dad's sequence for bob\n",
    "        for i in range(start, end + 1):\n",
    "            alice[i] = mum.vertices[i]\n",
    "            bob[i] = dad.vertices[i]\n",
    "\n",
    "        # Fill the remaining position with the other parents' entries\n",
    "        current_dad_position, current_mum_position = 0, 0\n",
    "\n",
    "        for i in chain(range(start), range(end + 1, size)):\n",
    "\n",
    "            while dad.vertices[current_dad_position] in alice:\n",
    "                current_dad_position += 1\n",
    "\n",
    "            while mum.vertices[current_mum_position] in bob:\n",
    "                current_mum_position += 1\n",
    "\n",
    "            alice[i] = dad.vertices[current_dad_position]\n",
    "            bob[i] = mum.vertices[current_mum_position]\n",
    "\n",
    "        # Return twins\n",
    "        return Tour(self.g, alice), Tour(self.g, bob)\n",
    "\n",
    "    def mutate(self, tour):\n",
    "        \"\"\"Randomly swaps pairs of cities in a given tour according to mutation rate\"\"\"\n",
    "\n",
    "        # Decide whether to mutate\n",
    "        if random.random() < self.mutation_rate:\n",
    "\n",
    "            # For each vertex\n",
    "            for i in range(len(tour.vertices)):\n",
    "\n",
    "                # Randomly decide whether to swap\n",
    "                if random.random() < self.mutation_swap_rate:\n",
    "\n",
    "                    # Randomly choose other city position\n",
    "                    j = random.randrange(len(tour.vertices))\n",
    "\n",
    "                    # Swap\n",
    "                    tour.vertices[i], tour.vertices[j] = tour.vertices[j], tour.vertices[i]\n",
    "\n",
    "    def select_parent(self, k):\n",
    "        \"\"\"Implements k-tournament selection to choose parents\"\"\"\n",
    "        tournament = random.sample(self.population, k)\n",
    "        return max(tournament, key=lambda t: t.cost())\n",
    "\n",
    "    def evolve(self):\n",
    "        \"\"\"Executes one iteration of the genetic algorithm to obtain a new generation\"\"\"\n",
    "\n",
    "        new_population = []\n",
    "\n",
    "        for _ in range(self.population_size):\n",
    "\n",
    "            # K-tournament for parents\n",
    "            mum, dad = self.select_parent(self.k), self.select_parent(self.k)\n",
    "            alice, bob = self.crossover(mum, dad)\n",
    "\n",
    "            # Mate in an  fashion according to the elitism_rate\n",
    "            if random.random() < self.elite_mating_rate:\n",
    "                if alice.cost() < mum.cost() or alice.cost() < dad.cost():\n",
    "                    new_population.append(alice)\n",
    "                if bob.cost() < mum.cost() or bob.cost() < dad.cost():\n",
    "                    new_population.append(bob)\n",
    "\n",
    "            else:\n",
    "                self.mutate(alice)\n",
    "                self.mutate(bob)\n",
    "                new_population += [alice, bob]\n",
    "\n",
    "        # Add new population to old\n",
    "        self.population += new_population\n",
    "\n",
    "        # Retain fittest\n",
    "        self.population = heapq.nsmallest(self.population_size, self.population, key=lambda t: t.cost())\n",
    "\n",
    "\n",
    "    def run(self, iterations=1000):\n",
    "        for _ in range(iterations):\n",
    "            #This is just for watching paint dry\n",
    "            #if _ % 100 == 0:\n",
    "            #    print(_)\n",
    "            self.evolve()\n",
    "\n",
    "    def best(self):\n",
    "        return max(self.population, key=lambda t: t.cost())"
   ]
  },
  {
   "cell_type": "code",
   "execution_count": 5,
   "metadata": {},
   "outputs": [],
   "source": [
    "g = Graph([(565.0, 575.0), (25.0, 185.0), (345.0, 750.0), (945.0, 685.0), \n",
    "           (845.0, 655.0), (880.0, 660.0), (25.0, 230.0), (525.0, 1000.0), \n",
    "           (580.0, 1175.0), (650.0, 1130.0), (1605.0, 620.0), (1220.0, 580.0), \n",
    "           (1465.0, 200.0), (1530.0, 5.0), (845.0, 680.0), (725.0, 370.0), \n",
    "           (145.0, 665.0), (415.0, 635.0), (510.0, 875.0), (560.0, 365.0), \n",
    "           (300.0, 465.0), (520.0, 585.0), (480.0, 415.0), (835.0, 625.0), \n",
    "           (975.0, 580.0), (1215.0, 245.0), (1320.0, 315.0), (1250.0, 400.0), \n",
    "           (660.0, 180.0), (410.0, 250.0), (420.0, 555.0), (575.0, 665.0), \n",
    "           (1150.0, 1160.0), (700.0, 580.0), (685.0, 595.0), (685.0, 610.0), \n",
    "           (770.0, 610.0), (795.0, 645.0), (720.0, 635.0), (760.0, 650.0), \n",
    "           (475.0, 960.0), (95.0, 260.0), (875.0, 920.0), (700.0, 500.0), \n",
    "           (555.0, 815.0), (830.0, 485.0), (1170.0, 65.0), (830.0, 610.0), \n",
    "           (605.0, 625.0), (595.0, 360.0), (1340.0, 725.0), (1740.0, 245.0)])"
   ]
  },
  {
   "cell_type": "markdown",
   "metadata": {},
   "source": [
    "# Main"
   ]
  },
  {
   "cell_type": "markdown",
   "metadata": {},
   "source": [
    "### Variables you can adjust"
   ]
  },
  {
   "cell_type": "code",
   "execution_count": 6,
   "metadata": {},
   "outputs": [],
   "source": [
    "#Number of simultaneous GAs to run\n",
    "N = 10\n",
    "#Number of iterations\n",
    "iterations = 5000"
   ]
  },
  {
   "cell_type": "markdown",
   "metadata": {},
   "source": [
    "### The algorithm"
   ]
  },
  {
   "cell_type": "code",
   "execution_count": 7,
   "metadata": {},
   "outputs": [],
   "source": [
    "#Create a list to store N GeneticAlgorithms\n",
    "l_ga = []\n",
    "for i in range(N):\n",
    "    l_ga.append(GeneticAlgorithm(g, 100))\n",
    "for ga in l_ga:\n",
    "    ga.run(iterations)"
   ]
  },
  {
   "cell_type": "code",
   "execution_count": 8,
   "metadata": {},
   "outputs": [
    {
     "name": "stdout",
     "output_type": "stream",
     "text": [
      "best_tours: [9702.304810970527, 9144.619810078671, 9937.87632777801, 9042.360502892161, 9047.656300710092, 10152.23745296335, 9358.52135215273, 8563.237852416103, 9477.257588738812, 9327.378081775365]\n"
     ]
    }
   ],
   "source": [
    "#Store the best tours in a list\n",
    "best_tours = [ga.best() for ga in l_ga]\n",
    "\n",
    "#Calculate the overall best\n",
    "best_tour = best_tours[0]\n",
    "for tour in best_tours:\n",
    "    if tour.cost() < best_tour.cost():\n",
    "        best_tour = tour\n",
    "\n",
    "print(\"best_tours:\",[tour.cost() for tour in best_tours])"
   ]
  },
  {
   "cell_type": "code",
   "execution_count": 9,
   "metadata": {},
   "outputs": [
    {
     "name": "stdout",
     "output_type": "stream",
     "text": [
      "Overall best result of generation 5000:\n"
     ]
    },
    {
     "data": {
      "image/png": "[encoded data removed]",
      "text/plain": [
       "<Figure size 640x480 with 1 Axes>"
      ]
     },
     "metadata": {},
     "output_type": "display_data"
    }
   ],
   "source": [
    "print(\"Overall best result of generation %d:\" % iterations)\n",
    "g.plot(best_tour)"
   ]
  },
  {
   "cell_type": "code",
   "execution_count": null,
   "metadata": {},
   "outputs": [],
   "source": []
  },
  {
   "cell_type": "code",
   "execution_count": null,
   "metadata": {},
   "outputs": [],
   "source": []
  }
 ],
 "metadata": {
  "kernelspec": {
   "display_name": "Python 3 (ipykernel)",
   "language": "python",
   "name": "python3"
  },
  "language_info": {
   "codemirror_mode": {
    "name": "ipython",
    "version": 3
   },
   "file_extension": ".py",
   "mimetype": "text/x-python",
   "name": "python",
   "nbconvert_exporter": "python",
   "pygments_lexer": "ipython3",
   "version": "3.10.8"
  }
 },
 "nbformat": 4,
 "nbformat_minor": 2
}
